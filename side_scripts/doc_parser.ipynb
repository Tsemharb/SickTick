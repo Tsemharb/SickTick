{
 "cells": [
  {
   "cell_type": "code",
   "execution_count": 1,
   "metadata": {},
   "outputs": [],
   "source": [
    "import docx"
   ]
  },
  {
   "cell_type": "code",
   "execution_count": 2,
   "metadata": {},
   "outputs": [],
   "source": [
    "def get_tests(table):\n",
    "    units = {}\n",
    "    data = {}\n",
    "    referent_col_name =''\n",
    "    rows_num = len(table.rows)\n",
    "    cells_num = len(table.rows[1].cells)\n",
    "    blank_rows_ind = []\n",
    "    is_referent_col = False  #referent column flag (\"ед.измер\", \"Норма\")\n",
    "    \n",
    "    #get referent name (\"ед.измер\", \"Норма\")\n",
    "    if table.rows[1].cells[1].text == 'ед.изм' or table.rows[1].cells[1].text == 'Норма':\n",
    "        referent_col_name = table.rows[1].cells[1].text\n",
    "        is_referent_col = True\n",
    "\n",
    "    #get blank rows\n",
    "    for i in range(rows_num):\n",
    "        row = table.rows[i]\n",
    "        if (row.cells[0].text == '' and row.cells[1].text == ''):\n",
    "            blank_rows_ind.append(i)\n",
    "    blank_rows_ind.append(len(table.rows))\n",
    "\n",
    "    #get sample units\n",
    "    if is_referent_col:\n",
    "        for row in range(1, rows_num):\n",
    "            unit_name = table.rows[row].cells[0].text\n",
    "            if unit_name != '':\n",
    "                units[table.rows[row].cells[0].text] = table.rows[row].cells[1].text\n",
    "            else: \n",
    "                continue\n",
    "    \n",
    "    #get samples results\n",
    "    start_row = 0\n",
    "    start_col = 2 if is_referent_col else 1\n",
    "    for blank in blank_rows_ind:\n",
    "        for cell in range(start_col, cells_num):\n",
    "            date = table.rows[start_row+1].cells[cell].text.strip()\n",
    "            if date == '':\n",
    "                continue\n",
    "            test = {}\n",
    "            for row in range (start_row+2, blank):\n",
    "                observation = table.rows[row].cells[cell].text.strip()\n",
    "                if observation != '':\n",
    "                    observation_name = table.rows[row].cells[0].text.strip()\n",
    "                    test[observation_name] = observation\n",
    "                else: \n",
    "                    continue\n",
    "            data[date] = test\n",
    "        start_row = blank\n",
    "    return{'referent_col_name': referent_col_name, 'units': units, 'data': data}"
   ]
  },
  {
   "cell_type": "code",
   "execution_count": 3,
   "metadata": {},
   "outputs": [],
   "source": [
    "doc = docx.Document('../data/123.docx')"
   ]
  },
  {
   "cell_type": "code",
   "execution_count": 4,
   "metadata": {},
   "outputs": [
    {
     "name": "stdout",
     "output_type": "stream",
     "text": [
      "ФИО\n",
      "Общие анализы крови\n",
      "Биохимические анализы крови\n",
      "Общие анализы мочи\n",
      "Иммунологические исследования\n",
      "Дополнительные исследования\n",
      "Микробиологические посевы\n",
      "Этиотропная терапия\n",
      "Температурный лист\n"
     ]
    }
   ],
   "source": [
    "for table in doc.tables:\n",
    "    print (table.rows[0].cells[0].text)"
   ]
  },
  {
   "cell_type": "code",
   "execution_count": 52,
   "metadata": {},
   "outputs": [],
   "source": [
    "tables_mapping = {'ФИО': 'general_info', \n",
    "                  'Общие анализы крови': 'cbc',\n",
    "                  'Биохимические анализы крови': 'blood_tests',\n",
    "                  'Общие анализы мочи': 'urine_tests',\n",
    "                  'Иммунологические исследования': 'immunologic_tests',\n",
    "                  'Дополнительные исследования': 'additional_tests',\n",
    "                  'Микробиологические посевы': 'microbiology',\n",
    "                  'Этиотропная терапия': 'antibiotics',\n",
    "                  'Температурный лист': 'temperature'}"
   ]
  },
  {
   "cell_type": "code",
   "execution_count": 53,
   "metadata": {},
   "outputs": [
    {
     "data": {
      "text/plain": [
       "{'general_info': <docx.table.Table at 0x9b3a10>,\n",
       " 'cbc': <docx.table.Table at 0x9b3db0>,\n",
       " 'blood_tests': <docx.table.Table at 0x9b3890>,\n",
       " 'urine_tests': <docx.table.Table at 0x9b32b0>,\n",
       " 'immunologic_tests': <docx.table.Table at 0x9b3ad0>,\n",
       " 'additional_tests': <docx.table.Table at 0x9b3ab0>,\n",
       " 'microbiology': <docx.table.Table at 0x9b3310>,\n",
       " 'antibiotics': <docx.table.Table at 0x9b35f0>,\n",
       " 'temperature': <docx.table.Table at 0x9b3550>}"
      ]
     },
     "execution_count": 53,
     "metadata": {},
     "output_type": "execute_result"
    }
   ],
   "source": [
    "tables = {}\n",
    "for table in doc.tables:\n",
    "    tables[tables_mapping[table.rows[0].cells[0].text.strip()]] = table\n",
    "tables"
   ]
  },
  {
   "cell_type": "code",
   "execution_count": 8,
   "metadata": {},
   "outputs": [],
   "source": [
    "#get temperature data\n",
    "temperature = {}\n",
    "the_table = tables['temperature']\n",
    "rows_num = len(the_table.rows)\n",
    "cells_num = len(the_table.rows[1].cells)\n",
    "temp_id = 0\n",
    "for row in range(1, rows_num, 3):\n",
    "    for cell in range(0, cells_num):\n",
    "        date = the_table.rows[row].cells[cell].text\n",
    "        if date != '':\n",
    "            temperature[temp_id] = {'date':date,\n",
    "                                    'temp': the_table.rows[row+1].cells[cell].text}\n",
    "            temp_id+=1\n",
    "        else: \n",
    "            break"
   ]
  },
  {
   "cell_type": "code",
   "execution_count": 15,
   "metadata": {},
   "outputs": [
    {
     "data": {
      "text/plain": [
       "{'name': 'ЙЦУ',\n",
       " 'birthdate': '11.11.1988',\n",
       " 'address': 'ФЫВА.',\n",
       " 'department': 'РАО -> 2 хирургическое',\n",
       " 'admission_date': '04.09.2018',\n",
       " 'discharge_date': '05.12.2018',\n",
       " 'diagnosis': 'ЖКБ. Хронический калькулезный холецистит. Холедохолитиаз. Механическая желтуха. Острый некротический билиарный панкреатит. Инфицированный панкреонекроз. Гнойный оментобурсит. Парапанкреальная флегмона слева. Некроз брыжейки поперечно-ободочной кишки. Острая язва желудка, осложненная кровотечением от 11.09.2018г. Сепсис. Сепстический шок от 07.09.2018г. Левосторонний реактивный. Полифакторная анемия средней степени. Первичный гипотиреоз, ремиссия.'}"
      ]
     },
     "execution_count": 15,
     "metadata": {},
     "output_type": "execute_result"
    }
   ],
   "source": [
    "#get general info\n",
    "gen_info_mapping = {'ФИО': 'name',\n",
    "                    'Дата рождения': 'birthdate',\n",
    "                    'Адрес домашний': 'address',\n",
    "                    'Отделение': 'department',\n",
    "                    'Дата госпитализации': 'admission_date',\n",
    "                    'Дата выписки': 'discharge_date',\n",
    "                    'Клинический диагноз': 'diagnosis'}\n",
    "general_info = {}\n",
    "the_table = tables['general_info']\n",
    "for row in the_table.rows:\n",
    "    general_info[gen_info_mapping[row.cells[0].text.strip()]] = row.cells[1].text\n",
    "general_info"
   ]
  },
  {
   "cell_type": "code",
   "execution_count": 49,
   "metadata": {},
   "outputs": [],
   "source": [
    "#get Complete blood count\n",
    "cbc = get_tests(tables['cbc'])"
   ]
  },
  {
   "cell_type": "code",
   "execution_count": 5,
   "metadata": {
    "jupyter": {
     "outputs_hidden": true
    },
    "scrolled": false
   },
   "outputs": [
    {
     "ename": "NameError",
     "evalue": "name 'cbc' is not defined",
     "output_type": "error",
     "traceback": [
      "\u001b[0;31m---------------------------------------------------------------------------\u001b[0m",
      "\u001b[0;31mNameError\u001b[0m                                 Traceback (most recent call last)",
      "\u001b[0;32m<ipython-input-5-4df68e49ac51>\u001b[0m in \u001b[0;36m<module>\u001b[0;34m\u001b[0m\n\u001b[0;32m----> 1\u001b[0;31m \u001b[0mcbc\u001b[0m\u001b[0;34m\u001b[0m\u001b[0m\n\u001b[0m",
      "\u001b[0;31mNameError\u001b[0m: name 'cbc' is not defined"
     ]
    }
   ],
   "source": [
    "cbc"
   ]
  },
  {
   "cell_type": "code",
   "execution_count": 42,
   "metadata": {},
   "outputs": [],
   "source": [
    "#get Blood tests\n",
    "blood_tests = get_tests(tables['blood_tests'])"
   ]
  },
  {
   "cell_type": "code",
   "execution_count": 6,
   "metadata": {
    "jupyter": {
     "outputs_hidden": true
    }
   },
   "outputs": [
    {
     "ename": "NameError",
     "evalue": "name 'blood_tests' is not defined",
     "output_type": "error",
     "traceback": [
      "\u001b[0;31m---------------------------------------------------------------------------\u001b[0m",
      "\u001b[0;31mNameError\u001b[0m                                 Traceback (most recent call last)",
      "\u001b[0;32m<ipython-input-6-e3521b858e39>\u001b[0m in \u001b[0;36m<module>\u001b[0;34m\u001b[0m\n\u001b[0;32m----> 1\u001b[0;31m \u001b[0mblood_tests\u001b[0m\u001b[0;34m\u001b[0m\u001b[0m\n\u001b[0m",
      "\u001b[0;31mNameError\u001b[0m: name 'blood_tests' is not defined"
     ]
    }
   ],
   "source": [
    "blood_tests"
   ]
  },
  {
   "cell_type": "code",
   "execution_count": 44,
   "metadata": {},
   "outputs": [],
   "source": [
    "#get Urine tests\n",
    "urine_tests = get_tests(tables['urine_tests'])\n",
    "# urine_tests = get_tests(doc.tables[3])"
   ]
  },
  {
   "cell_type": "code",
   "execution_count": 7,
   "metadata": {
    "jupyter": {
     "outputs_hidden": true
    }
   },
   "outputs": [
    {
     "ename": "NameError",
     "evalue": "name 'urine_tests' is not defined",
     "output_type": "error",
     "traceback": [
      "\u001b[0;31m---------------------------------------------------------------------------\u001b[0m",
      "\u001b[0;31mNameError\u001b[0m                                 Traceback (most recent call last)",
      "\u001b[0;32m<ipython-input-7-0c064a5071a7>\u001b[0m in \u001b[0;36m<module>\u001b[0;34m\u001b[0m\n\u001b[0;32m----> 1\u001b[0;31m \u001b[0murine_tests\u001b[0m\u001b[0;34m\u001b[0m\u001b[0m\n\u001b[0m",
      "\u001b[0;31mNameError\u001b[0m: name 'urine_tests' is not defined"
     ]
    }
   ],
   "source": [
    "urine_tests"
   ]
  },
  {
   "cell_type": "code",
   "execution_count": 54,
   "metadata": {},
   "outputs": [],
   "source": [
    "#get Immunologic tests\n",
    "immunologic_tests = get_tests(tables['immunologic_tests'])"
   ]
  },
  {
   "cell_type": "code",
   "execution_count": 8,
   "metadata": {
    "jupyter": {
     "outputs_hidden": true
    }
   },
   "outputs": [
    {
     "ename": "NameError",
     "evalue": "name 'immunologic_tests' is not defined",
     "output_type": "error",
     "traceback": [
      "\u001b[0;31m---------------------------------------------------------------------------\u001b[0m",
      "\u001b[0;31mNameError\u001b[0m                                 Traceback (most recent call last)",
      "\u001b[0;32m<ipython-input-8-7282b2c45ed5>\u001b[0m in \u001b[0;36m<module>\u001b[0;34m\u001b[0m\n\u001b[0;32m----> 1\u001b[0;31m \u001b[0mimmunologic_tests\u001b[0m\u001b[0;34m\u001b[0m\u001b[0m\n\u001b[0m",
      "\u001b[0;31mNameError\u001b[0m: name 'immunologic_tests' is not defined"
     ]
    }
   ],
   "source": [
    "immunologic_tests"
   ]
  },
  {
   "cell_type": "code",
   "execution_count": null,
   "metadata": {},
   "outputs": [],
   "source": []
  }
 ],
 "metadata": {
  "kernelspec": {
   "display_name": "Python 3",
   "language": "python",
   "name": "python3"
  },
  "language_info": {
   "codemirror_mode": {
    "name": "ipython",
    "version": 3
   },
   "file_extension": ".py",
   "mimetype": "text/x-python",
   "name": "python",
   "nbconvert_exporter": "python",
   "pygments_lexer": "ipython3",
   "version": "3.6.6"
  }
 },
 "nbformat": 4,
 "nbformat_minor": 4
}
